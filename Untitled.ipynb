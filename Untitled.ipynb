{
 "cells": [
  {
   "cell_type": "code",
   "execution_count": 67,
   "metadata": {
    "scrolled": false
   },
   "outputs": [
    {
     "name": "stdout",
     "output_type": "stream",
     "text": [
      "27251    With malt flavors of caramel and biscuit, plus...\n",
      "17004    Aged for four months in Heaven Hill Distillery...\n",
      "18551    Brewed with only the choicest cut hops we coul...\n",
      "19172    Tower 10 IPA boasts hops from beginning to end...\n",
      "17673    How many apples are in a grappler? It’s a comm...\n",
      "10947    English-style robust chocolate porter. Is a fu...\n",
      "Name: description, dtype: object\n"
     ]
    },
    {
     "name": "stderr",
     "output_type": "stream",
     "text": [
      "C:\\Users\\Peter\\Anaconda3\\envs\\PythonData\\lib\\site-packages\\ipykernel\\__main__.py:39: SettingWithCopyWarning: \n",
      "A value is trying to be set on a copy of a slice from a DataFrame.\n",
      "Try using .loc[row_indexer,col_indexer] = value instead\n",
      "\n",
      "See the caveats in the documentation: http://pandas.pydata.org/pandas-docs/stable/indexing.html#indexing-view-versus-copy\n"
     ]
    }
   ],
   "source": [
    "from sklearn.neighbors import KNeighborsClassifier\n",
    "import pandas as pd\n",
    "import os\n",
    "import numpy as np\n",
    "import matplotlib.pyplot as plt\n",
    "from sklearn.feature_extraction.text import TfidfVectorizer\n",
    "from sklearn.feature_extraction import text\n",
    "from sklearn.cluster import KMeans\n",
    "from sklearn.metrics import adjusted_rand_score\n",
    "from numpy import nan as Nan\n",
    "import random\n",
    "\n",
    "# desc = input(\"LAY ME DOWN SOME WORDS\")\n",
    "# abv = input(\"How Strong?\")\n",
    "\n",
    "df = pd.read_csv(os.path.join(\"..\", \"..\", \"..\", \"cleanedfinalbeerdata.csv\"))\n",
    "df.columns.values\n",
    "\n",
    "df2 = pd.DataFrame([[33050, \"UserBeer\", Nan, \"memes light pale ale\", 7, Nan, Nan, Nan, Nan, Nan, Nan, Nan, Nan, Nan, Nan, Nan, Nan, Nan, Nan, 7]],\n",
    "                   columns=list(df.columns.values))\n",
    "df3 = pd.concat([df, df2])\n",
    "\n",
    "df3.loc[df3['id'] == 'UserBeer']\n",
    "\n",
    "finaldf1 = df3[(df3.description.notnull())]\n",
    "\n",
    "documents = np.ndarray.tolist(finaldf1['description'].values)\n",
    "\n",
    "my_stop_words = text.ENGLISH_STOP_WORDS.union([\"beer\"])\n",
    "vectorizer = TfidfVectorizer(stop_words=my_stop_words, decode_error='replace', encoding='utf-8')\n",
    "\n",
    "X = vectorizer.fit_transform(documents)\n",
    "\n",
    "kmeans = KMeans(n_clusters=15)\n",
    "srmdata = np.array(list(zip(finaldf1['newabv'].values)), X)\n",
    "kmeans.fit(srmdata)\n",
    "predicted_clusters = kmeans.predict(srmdata)\n",
    "\n",
    "finaldf1['predicted group'] = predicted_clusters\n",
    "\n",
    "finaldf1[finaldf1['id'].str.contains('UserBeer')]\n",
    "\n",
    "chosenbeergroup = finaldf1[finaldf1['id'].str.contains('UserBeer')]['predicted group'].values[0]\n",
    "\n",
    "\n",
    "filterdf = finaldf1[finaldf1['predicted group']==chosenbeergroup]\n",
    "filterdf.head()\n",
    "\n",
    "selectarr = []\n",
    "numberingroup = filterdf['id'].count()\n",
    "\n",
    "for x in range(0, 6):\n",
    "    selectarr.append (random.randint(0, int(numberingroup)))\n",
    "\n",
    "finaluserdf = filterdf.iloc[selectarr]\n",
    "\n",
    "print(finaluserdf[\"description\"])\n"
   ]
  },
  {
   "cell_type": "code",
   "execution_count": null,
   "metadata": {},
   "outputs": [],
   "source": []
  }
 ],
 "metadata": {
  "kernelspec": {
   "display_name": "Python [conda env:PythonData]",
   "language": "python",
   "name": "conda-env-PythonData-py"
  },
  "language_info": {
   "codemirror_mode": {
    "name": "ipython",
    "version": 3
   },
   "file_extension": ".py",
   "mimetype": "text/x-python",
   "name": "python",
   "nbconvert_exporter": "python",
   "pygments_lexer": "ipython3",
   "version": "3.6.5"
  }
 },
 "nbformat": 4,
 "nbformat_minor": 2
}
